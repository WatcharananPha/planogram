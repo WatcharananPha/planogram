{
 "cells": [
  {
   "cell_type": "code",
   "execution_count": 1,
   "metadata": {},
   "outputs": [
    {
     "ename": "ModuleNotFoundError",
     "evalue": "No module named 'vision_agent'",
     "output_type": "error",
     "traceback": [
      "\u001b[1;31m---------------------------------------------------------------------------\u001b[0m",
      "\u001b[1;31mModuleNotFoundError\u001b[0m                       Traceback (most recent call last)",
      "Cell \u001b[1;32mIn[1], line 3\u001b[0m\n\u001b[0;32m      1\u001b[0m \u001b[38;5;28;01mimport\u001b[39;00m\u001b[38;5;250m \u001b[39m\u001b[38;5;21;01mos\u001b[39;00m\n\u001b[0;32m      2\u001b[0m \u001b[38;5;28;01mimport\u001b[39;00m\u001b[38;5;250m \u001b[39m\u001b[38;5;21;01mnumpy\u001b[39;00m\u001b[38;5;250m \u001b[39m\u001b[38;5;28;01mas\u001b[39;00m\u001b[38;5;250m \u001b[39m\u001b[38;5;21;01mnp\u001b[39;00m\n\u001b[1;32m----> 3\u001b[0m \u001b[38;5;28;01mfrom\u001b[39;00m\u001b[38;5;250m \u001b[39m\u001b[38;5;21;01mvision_agent\u001b[39;00m\u001b[38;5;21;01m.\u001b[39;00m\u001b[38;5;21;01mtools\u001b[39;00m\u001b[38;5;250m \u001b[39m\u001b[38;5;28;01mimport\u001b[39;00m \u001b[38;5;241m*\u001b[39m\n\u001b[0;32m      4\u001b[0m \u001b[38;5;28;01mfrom\u001b[39;00m\u001b[38;5;250m \u001b[39m\u001b[38;5;21;01mtyping\u001b[39;00m\u001b[38;5;250m \u001b[39m\u001b[38;5;28;01mimport\u001b[39;00m \u001b[38;5;241m*\u001b[39m\n\u001b[0;32m      5\u001b[0m \u001b[38;5;28;01mfrom\u001b[39;00m\u001b[38;5;250m \u001b[39m\u001b[38;5;21;01mpillow_heif\u001b[39;00m\u001b[38;5;250m \u001b[39m\u001b[38;5;28;01mimport\u001b[39;00m register_heif_opener\n",
      "\u001b[1;31mModuleNotFoundError\u001b[0m: No module named 'vision_agent'"
     ]
    }
   ],
   "source": [
    "import os\n",
    "import numpy as np\n",
    "from vision_agent.tools import *\n",
    "from typing import *\n",
    "from pillow_heif import register_heif_opener\n",
    "register_heif_opener()\n",
    "import vision_agent as va\n",
    "from vision_agent.tools import register_tool\n",
    "from vision_agent.tools import load_image, owlv2_object_detection, florence2_ocr"
   ]
  },
  {
   "cell_type": "code",
   "execution_count": null,
   "metadata": {},
   "outputs": [],
   "source": [
    "def analyze_shelf_planogram(image_path):\n",
    "    image = load_image(image_path)\n",
    "    \n",
    "    # Detect products\n",
    "    products = owlv2_object_detection(\"cleaning products, spray bottles, detergent bottles\", image)\n",
    "    \n",
    "    # Read text on labels\n",
    "    text_data = florence2_ocr(image)\n",
    "    \n",
    "    # Initialize counters and data structures\n",
    "    product_counts = {\n",
    "        \"cleaning_products\": 0,\n",
    "        \"spray_bottles\": 0,\n",
    "        \"detergent_bottles\": 0\n",
    "    }\n",
    "    shelf_data = {\n",
    "        \"top_shelf\": [],\n",
    "        \"middle_shelf\": [],\n",
    "        \"bottom_shelf\": []\n",
    "    }\n",
    "    \n",
    "    # Analyze product placement\n",
    "    height, width = image.shape[:2]\n",
    "    for product in products:\n",
    "        product_type = product['label']\n",
    "        product_counts[product_type.replace(\" \", \"_\")] += 1\n",
    "        \n",
    "        # Determine shelf based on y-coordinate\n",
    "        y_center = (product['bbox'][1] + product['bbox'][3]) / 2\n",
    "        if y_center < 0.33:\n",
    "            shelf_data[\"top_shelf\"].append(product)\n",
    "        elif y_center < 0.66:\n",
    "            shelf_data[\"middle_shelf\"].append(product)\n",
    "        else:\n",
    "            shelf_data[\"bottom_shelf\"].append(product)\n",
    "    \n",
    "    # Analyze text data\n",
    "    for text in text_data:\n",
    "        text_center = ((text['bbox'][0] + text['bbox'][2]) / 2, (text['bbox'][1] + text['bbox'][3]) / 2)\n",
    "        for shelf in shelf_data.values():\n",
    "            for product in shelf:\n",
    "                product_center = ((product['bbox'][0] + product['bbox'][2]) / 2, (product['bbox'][1] + product['bbox'][3]) / 2)\n",
    "                if abs(text_center[0] - product_center[0]) * width < 50 and abs(text_center[1] - product_center[1]) * height < 50:\n",
    "                    if 'text' not in product:\n",
    "                        product['text'] = []\n",
    "                    product['text'].append(text['label'])\n",
    "    \n",
    "    # Generate summary\n",
    "    summary = create_summary(product_counts, shelf_data)\n",
    "    \n",
    "    return summary\n",
    "\n",
    "def create_summary(product_counts, shelf_data):\n",
    "    summary = f\"Total products detected: {sum(product_counts.values())}\\n\"\n",
    "    summary += f\"Cleaning products: {product_counts['cleaning_products']}\\n\"\n",
    "    summary += f\"Spray bottles: {product_counts['spray_bottles']}\\n\"\n",
    "    summary += f\"Detergent bottles: {product_counts['detergent_bottles']}\\n\\n\"\n",
    "    \n",
    "    for shelf, products in shelf_data.items():\n",
    "        summary += f\"{shelf.replace('_', ' ').title()}:\\n\"\n",
    "        for product in products:\n",
    "            summary += f\"  - {product['label'].title()}\"\n",
    "            if 'text' in product:\n",
    "                summary += f\" (Label: {' '.join(product['text'][:3])}...)\"\n",
    "            summary += \"\\n\"\n",
    "        summary += \"\\n\"\n",
    "    \n",
    "    return summary\n"
   ]
  }
 ],
 "metadata": {
  "kernelspec": {
   "display_name": "Python 3",
   "language": "python",
   "name": "python3"
  },
  "language_info": {
   "codemirror_mode": {
    "name": "ipython",
    "version": 3
   },
   "file_extension": ".py",
   "mimetype": "text/x-python",
   "name": "python",
   "nbconvert_exporter": "python",
   "pygments_lexer": "ipython3",
   "version": "3.9.7"
  }
 },
 "nbformat": 4,
 "nbformat_minor": 2
}
